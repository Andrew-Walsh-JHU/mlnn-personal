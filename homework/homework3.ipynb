{
 "cells": [
  {
   "cell_type": "markdown",
   "metadata": {},
   "source": [
    "# Homework 3\n",
    "\n",
    "Continue the exercises in Brandon Rhodes' [Pycon Pandas Tutorial](https://github.com/brandon-rhodes/pycon-pandas-tutorial). Once again, watch the [Brandon's Pandas Tutorial Video from Pycon 2015 in Montréal](https://www.youtube.com/watch?v=5JnMutdy6Fw) if you need help.\n",
    "\n",
    "**SUBMISSION:** Compile all your answers into a single notebook titled `homework3.ipynb` and place it in your `workspace` folder to submit.\n",
    "\n",
    "### Exercise 2\n",
    "\n",
    "Feel free to complete the whole notebook, but these are the important questions:\n",
    "\n",
    "- Plot how many roles Mammootty has played in each year of his career.\n",
    "- What are the 10 most frequent roles that start with the phrase \"Patron in\"?\n",
    "- Plot the n-values of the roles that Judi Dench has played over her career.\n",
    "\n",
    "### Exercise 3\n",
    "\n",
    "Do all 7 questions.\n",
    "\n",
    "### Exercise 4\n",
    "\n",
    "Do all 8 questions.\n",
    "\n",
    "### Exercise 5\n",
    "\n",
    "Do all 7 questions.\n",
    "\n",
    "### Exercise 6\n",
    "\n",
    "**Challenge / Optional**\n",
    "\n",
    "Learn about dealing with missing and messy data, renaming columns, using more complicated `str` methods, and merging data frames using `concat`."
   ]
  }
 ],
 "metadata": {
  "kernelspec": {
   "display_name": "Python 3",
   "language": "python",
   "name": "python3"
  },
  "language_info": {
   "codemirror_mode": {
    "name": "ipython",
    "version": 3
   },
   "file_extension": ".py",
   "mimetype": "text/x-python",
   "name": "python",
   "nbconvert_exporter": "python",
   "pygments_lexer": "ipython3",
   "version": "3.5.1"
  }
 },
 "nbformat": 4,
 "nbformat_minor": 0
}
