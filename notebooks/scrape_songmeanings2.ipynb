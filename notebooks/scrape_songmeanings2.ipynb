{
 "cells": [
  {
   "cell_type": "code",
   "execution_count": 1,
   "metadata": {
    "collapsed": false
   },
   "outputs": [],
   "source": [
    "import requests, lxml.html\n",
    "import pandas as pd\n",
    "pd.set_option('display.max_colwidth', 100)"
   ]
  },
  {
   "cell_type": "code",
   "execution_count": 2,
   "metadata": {
    "collapsed": false
   },
   "outputs": [
    {
     "data": {
      "text/html": [
       "<div>\n",
       "<table border=\"1\" class=\"dataframe\">\n",
       "  <thead>\n",
       "    <tr style=\"text-align: right;\">\n",
       "      <th></th>\n",
       "      <th>artist</th>\n",
       "      <th>link</th>\n",
       "    </tr>\n",
       "  </thead>\n",
       "  <tbody>\n",
       "    <tr>\n",
       "      <th>0</th>\n",
       "      <td>A</td>\n",
       "      <td>http://songmeanings.com/artist/view/songs/6024/</td>\n",
       "    </tr>\n",
       "    <tr>\n",
       "      <th>1</th>\n",
       "      <td>A B</td>\n",
       "      <td>http://songmeanings.com/artist/view/songs/137439043394/</td>\n",
       "    </tr>\n",
       "    <tr>\n",
       "      <th>2</th>\n",
       "      <td>A B &amp; The Sea</td>\n",
       "      <td>http://songmeanings.com/artist/view/songs/137438996227/</td>\n",
       "    </tr>\n",
       "    <tr>\n",
       "      <th>3</th>\n",
       "      <td>A Backward Glance On A Travel Road</td>\n",
       "      <td>http://songmeanings.com/artist/view/songs/137439060610/</td>\n",
       "    </tr>\n",
       "    <tr>\n",
       "      <th>4</th>\n",
       "      <td>A Balladeer</td>\n",
       "      <td>http://songmeanings.com/artist/view/songs/137438972714/</td>\n",
       "    </tr>\n",
       "  </tbody>\n",
       "</table>\n",
       "</div>"
      ],
      "text/plain": [
       "                               artist  \\\n",
       "0                                   A   \n",
       "1                                 A B   \n",
       "2                       A B & The Sea   \n",
       "3  A Backward Glance On A Travel Road   \n",
       "4                         A Balladeer   \n",
       "\n",
       "                                                      link  \n",
       "0          http://songmeanings.com/artist/view/songs/6024/  \n",
       "1  http://songmeanings.com/artist/view/songs/137439043394/  \n",
       "2  http://songmeanings.com/artist/view/songs/137438996227/  \n",
       "3  http://songmeanings.com/artist/view/songs/137439060610/  \n",
       "4  http://songmeanings.com/artist/view/songs/137438972714/  "
      ]
     },
     "execution_count": 2,
     "metadata": {},
     "output_type": "execute_result"
    }
   ],
   "source": [
    "response = requests.get(\"http://songmeanings.com/artist/directory/a/?page=%d\" % 1)\n",
    "doc = lxml.html.fromstring(response.content)\n",
    "\n",
    "rows = []\n",
    "for artist in doc.cssselect(\"tr[id=fan-]\"):\n",
    "    row = [artist.text_content(), \"http://\" + artist.cssselect('a')[0].get('href').lstrip('/')]\n",
    "    rows.append(row)\n",
    "\n",
    "df = pd.DataFrame(rows, columns=['artist', 'link'])\n",
    "df.head(5)"
   ]
  }
 ],
 "metadata": {
  "kernelspec": {
   "display_name": "Python 3",
   "language": "python",
   "name": "python3"
  },
  "language_info": {
   "codemirror_mode": {
    "name": "ipython",
    "version": 3
   },
   "file_extension": ".py",
   "mimetype": "text/x-python",
   "name": "python",
   "nbconvert_exporter": "python",
   "pygments_lexer": "ipython3",
   "version": "3.5.1"
  }
 },
 "nbformat": 4,
 "nbformat_minor": 0
}
