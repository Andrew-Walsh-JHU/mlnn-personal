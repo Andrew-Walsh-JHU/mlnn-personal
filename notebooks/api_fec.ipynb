{
 "cells": [
  {
   "cell_type": "code",
   "execution_count": 20,
   "metadata": {
    "collapsed": true
   },
   "outputs": [],
   "source": [
    "import requests\n",
    "import pandas as pd"
   ]
  },
  {
   "cell_type": "code",
   "execution_count": 21,
   "metadata": {
    "collapsed": true
   },
   "outputs": [],
   "source": [
    "als_api_key = \"o8r8WniAtWAe7LWg7hsRXi4FItdmsrW6Ta5gi9UW\" # please make your own if you're actually using this\n",
    "data = requests.get(\"https://api.open.fec.gov/v1/election-dates/?api_key=%s\" % als_api_key).json()"
   ]
  },
  {
   "cell_type": "code",
   "execution_count": 22,
   "metadata": {
    "collapsed": false
   },
   "outputs": [
    {
     "data": {
      "text/html": [
       "<div>\n",
       "<table border=\"1\" class=\"dataframe\">\n",
       "  <thead>\n",
       "    <tr style=\"text-align: right;\">\n",
       "      <th></th>\n",
       "      <th>create_date</th>\n",
       "      <th>election_date</th>\n",
       "      <th>election_district</th>\n",
       "      <th>election_notes</th>\n",
       "      <th>election_party</th>\n",
       "      <th>election_state</th>\n",
       "      <th>election_type_full</th>\n",
       "      <th>election_type_id</th>\n",
       "      <th>election_year</th>\n",
       "      <th>office_sought</th>\n",
       "      <th>primary_general_date</th>\n",
       "      <th>update_date</th>\n",
       "    </tr>\n",
       "  </thead>\n",
       "  <tbody>\n",
       "    <tr>\n",
       "      <th>0</th>\n",
       "      <td>2015-09-18T10:08:17+00:00</td>\n",
       "      <td>2017-01-10</td>\n",
       "      <td>NaN</td>\n",
       "      <td>None</td>\n",
       "      <td>None</td>\n",
       "      <td>GA</td>\n",
       "      <td>General runoff</td>\n",
       "      <td>GR</td>\n",
       "      <td>2017</td>\n",
       "      <td>S</td>\n",
       "      <td>2015-10-16T01:32:11.131000</td>\n",
       "      <td>None</td>\n",
       "    </tr>\n",
       "    <tr>\n",
       "      <th>1</th>\n",
       "      <td>2015-09-18T10:08:17+00:00</td>\n",
       "      <td>2017-01-10</td>\n",
       "      <td>NaN</td>\n",
       "      <td>None</td>\n",
       "      <td>None</td>\n",
       "      <td>GA</td>\n",
       "      <td>General runoff</td>\n",
       "      <td>GR</td>\n",
       "      <td>2017</td>\n",
       "      <td>H</td>\n",
       "      <td>2015-10-16T01:32:11.113000</td>\n",
       "      <td>None</td>\n",
       "    </tr>\n",
       "    <tr>\n",
       "      <th>2</th>\n",
       "      <td>2015-08-19T10:33:28+00:00</td>\n",
       "      <td>2016-12-10</td>\n",
       "      <td>NaN</td>\n",
       "      <td>None</td>\n",
       "      <td>None</td>\n",
       "      <td>LA</td>\n",
       "      <td>General runoff</td>\n",
       "      <td>GR</td>\n",
       "      <td>2016</td>\n",
       "      <td>S</td>\n",
       "      <td>2015-10-16T01:30:40.594000</td>\n",
       "      <td>2015-09-25T12:32:25+00:00</td>\n",
       "    </tr>\n",
       "    <tr>\n",
       "      <th>3</th>\n",
       "      <td>2015-08-19T10:33:28+00:00</td>\n",
       "      <td>2016-12-10</td>\n",
       "      <td>NaN</td>\n",
       "      <td>None</td>\n",
       "      <td>None</td>\n",
       "      <td>LA</td>\n",
       "      <td>General runoff</td>\n",
       "      <td>GR</td>\n",
       "      <td>2016</td>\n",
       "      <td>H</td>\n",
       "      <td>2015-10-16T01:30:40.576000</td>\n",
       "      <td>2015-09-25T12:32:14+00:00</td>\n",
       "    </tr>\n",
       "    <tr>\n",
       "      <th>4</th>\n",
       "      <td>2016-01-07T13:34:05+00:00</td>\n",
       "      <td>2016-11-22</td>\n",
       "      <td>NaN</td>\n",
       "      <td>None</td>\n",
       "      <td>None</td>\n",
       "      <td>VI</td>\n",
       "      <td>General runoff</td>\n",
       "      <td>GR</td>\n",
       "      <td>2016</td>\n",
       "      <td>H</td>\n",
       "      <td>2016-01-08T02:24:12.562000</td>\n",
       "      <td>None</td>\n",
       "    </tr>\n",
       "  </tbody>\n",
       "</table>\n",
       "</div>"
      ],
      "text/plain": [
       "                 create_date election_date  election_district election_notes  \\\n",
       "0  2015-09-18T10:08:17+00:00    2017-01-10                NaN           None   \n",
       "1  2015-09-18T10:08:17+00:00    2017-01-10                NaN           None   \n",
       "2  2015-08-19T10:33:28+00:00    2016-12-10                NaN           None   \n",
       "3  2015-08-19T10:33:28+00:00    2016-12-10                NaN           None   \n",
       "4  2016-01-07T13:34:05+00:00    2016-11-22                NaN           None   \n",
       "\n",
       "  election_party election_state election_type_full election_type_id  \\\n",
       "0           None             GA     General runoff               GR   \n",
       "1           None             GA     General runoff               GR   \n",
       "2           None             LA     General runoff               GR   \n",
       "3           None             LA     General runoff               GR   \n",
       "4           None             VI     General runoff               GR   \n",
       "\n",
       "   election_year office_sought        primary_general_date  \\\n",
       "0           2017             S  2015-10-16T01:32:11.131000   \n",
       "1           2017             H  2015-10-16T01:32:11.113000   \n",
       "2           2016             S  2015-10-16T01:30:40.594000   \n",
       "3           2016             H  2015-10-16T01:30:40.576000   \n",
       "4           2016             H  2016-01-08T02:24:12.562000   \n",
       "\n",
       "                 update_date  \n",
       "0                       None  \n",
       "1                       None  \n",
       "2  2015-09-25T12:32:25+00:00  \n",
       "3  2015-09-25T12:32:14+00:00  \n",
       "4                       None  "
      ]
     },
     "execution_count": 22,
     "metadata": {},
     "output_type": "execute_result"
    }
   ],
   "source": [
    "df = pd.DataFrame.from_dict(data['results'])\n",
    "df.head()"
   ]
  }
 ],
 "metadata": {
  "kernelspec": {
   "display_name": "Python 3",
   "language": "python",
   "name": "python3"
  },
  "language_info": {
   "codemirror_mode": {
    "name": "ipython",
    "version": 3
   },
   "file_extension": ".py",
   "mimetype": "text/x-python",
   "name": "python",
   "nbconvert_exporter": "python",
   "pygments_lexer": "ipython3",
   "version": "3.5.1"
  }
 },
 "nbformat": 4,
 "nbformat_minor": 0
}
