{
 "cells": [
  {
   "cell_type": "code",
   "execution_count": 1,
   "metadata": {
    "collapsed": false
   },
   "outputs": [],
   "source": [
    "import requests, lxml.html\n",
    "import pandas as pd\n",
    "\n",
    "pd.set_option('display.max_colwidth', 100)"
   ]
  },
  {
   "cell_type": "code",
   "execution_count": 2,
   "metadata": {
    "collapsed": false,
    "scrolled": false
   },
   "outputs": [
    {
     "data": {
      "text/html": [
       "<div>\n",
       "<table border=\"1\" class=\"dataframe\">\n",
       "  <thead>\n",
       "    <tr style=\"text-align: right;\">\n",
       "      <th></th>\n",
       "      <th>date</th>\n",
       "      <th>debate</th>\n",
       "      <th>link</th>\n",
       "      <th>year</th>\n",
       "    </tr>\n",
       "  </thead>\n",
       "  <tbody>\n",
       "    <tr>\n",
       "      <th>4</th>\n",
       "      <td>2016-04-14</td>\n",
       "      <td>Democratic Candidates Debate in Brooklyn, New York</td>\n",
       "      <td>http://www.presidency.ucsb.edu/ws/index.php?pid=116995</td>\n",
       "      <td>2016</td>\n",
       "    </tr>\n",
       "    <tr>\n",
       "      <th>5</th>\n",
       "      <td>2016-03-09</td>\n",
       "      <td>Democratic Candidates Debate in Miami, Florida</td>\n",
       "      <td>http://www.presidency.ucsb.edu/ws/index.php?pid=112719</td>\n",
       "      <td>2016</td>\n",
       "    </tr>\n",
       "    <tr>\n",
       "      <th>6</th>\n",
       "      <td>2016-03-06</td>\n",
       "      <td>Democratic Candidates Debate in Flint, Michigan</td>\n",
       "      <td>http://www.presidency.ucsb.edu/ws/index.php?pid=112718</td>\n",
       "      <td>2016</td>\n",
       "    </tr>\n",
       "    <tr>\n",
       "      <th>7</th>\n",
       "      <td>2016-02-11</td>\n",
       "      <td>Democratic Candidates Debate in Milwaukee, Wisconsin</td>\n",
       "      <td>http://www.presidency.ucsb.edu/ws/index.php?pid=111520</td>\n",
       "      <td>2016</td>\n",
       "    </tr>\n",
       "    <tr>\n",
       "      <th>8</th>\n",
       "      <td>2016-02-04</td>\n",
       "      <td>Democratic Candidates Debate in Durham, New Hampshire</td>\n",
       "      <td>http://www.presidency.ucsb.edu/ws/index.php?pid=111471</td>\n",
       "      <td>2016</td>\n",
       "    </tr>\n",
       "  </tbody>\n",
       "</table>\n",
       "</div>"
      ],
      "text/plain": [
       "        date                                                 debate  \\\n",
       "4 2016-04-14     Democratic Candidates Debate in Brooklyn, New York   \n",
       "5 2016-03-09         Democratic Candidates Debate in Miami, Florida   \n",
       "6 2016-03-06        Democratic Candidates Debate in Flint, Michigan   \n",
       "7 2016-02-11   Democratic Candidates Debate in Milwaukee, Wisconsin   \n",
       "8 2016-02-04  Democratic Candidates Debate in Durham, New Hampshire   \n",
       "\n",
       "                                                     link  year  \n",
       "4  http://www.presidency.ucsb.edu/ws/index.php?pid=116995  2016  \n",
       "5  http://www.presidency.ucsb.edu/ws/index.php?pid=112719  2016  \n",
       "6  http://www.presidency.ucsb.edu/ws/index.php?pid=112718  2016  \n",
       "7  http://www.presidency.ucsb.edu/ws/index.php?pid=111520  2016  \n",
       "8  http://www.presidency.ucsb.edu/ws/index.php?pid=111471  2016  "
      ]
     },
     "execution_count": 2,
     "metadata": {},
     "output_type": "execute_result"
    }
   ],
   "source": [
    "response = requests.get(\"http://www.presidency.ucsb.edu/debates.php\")\n",
    "doc = lxml.html.fromstring(response.content)\n",
    "rows = []\n",
    "for el in doc.cssselect(\"td.doctext\"):\n",
    "    row = el.getparent()\n",
    "    date = row.cssselect(\"td.docdate\")[0].text_content()\n",
    "    debate = row.cssselect(\"td.doctext\")[0].text_content()\n",
    "    link = \"\"\n",
    "    if row.cssselect(\"td.doctext a\"):\n",
    "        link = row.cssselect(\"td.doctext a\")[0].get('href')\n",
    "    row = [date, debate, link]\n",
    "    rows.append(row)\n",
    "df = pd.DataFrame(rows, columns=['date', 'debate', 'link'])\n",
    "df['date'] = pd.to_datetime(df.date)\n",
    "df['year'] = df.date.dt.year\n",
    "df[df.link != \"\"].head()"
   ]
  },
  {
   "cell_type": "code",
   "execution_count": 3,
   "metadata": {
    "collapsed": false
   },
   "outputs": [
    {
     "data": {
      "text/html": [
       "<div>\n",
       "<table border=\"1\" class=\"dataframe\">\n",
       "  <thead>\n",
       "    <tr style=\"text-align: right;\">\n",
       "      <th></th>\n",
       "      <th>date</th>\n",
       "      <th>debate</th>\n",
       "      <th>link</th>\n",
       "      <th>year</th>\n",
       "    </tr>\n",
       "  </thead>\n",
       "  <tbody>\n",
       "    <tr>\n",
       "      <th>31</th>\n",
       "      <td>2015-08-06</td>\n",
       "      <td>Republican  Candidates \"Undercard\" Debate in Cleveland, Ohio</td>\n",
       "      <td>http://www.presidency.ucsb.edu/ws/index.php?pid=110757</td>\n",
       "      <td>2015</td>\n",
       "    </tr>\n",
       "  </tbody>\n",
       "</table>\n",
       "</div>"
      ],
      "text/plain": [
       "         date                                                        debate  \\\n",
       "31 2015-08-06  Republican  Candidates \"Undercard\" Debate in Cleveland, Ohio   \n",
       "\n",
       "                                                      link  year  \n",
       "31  http://www.presidency.ucsb.edu/ws/index.php?pid=110757  2015  "
      ]
     },
     "execution_count": 3,
     "metadata": {},
     "output_type": "execute_result"
    }
   ],
   "source": [
    "df[df.year >= 2015].sort_values(by='year').head(1)"
   ]
  },
  {
   "cell_type": "code",
   "execution_count": 4,
   "metadata": {
    "collapsed": false
   },
   "outputs": [
    {
     "data": {
      "text/html": [
       "<div>\n",
       "<table border=\"1\" class=\"dataframe\">\n",
       "  <thead>\n",
       "    <tr style=\"text-align: right;\">\n",
       "      <th></th>\n",
       "      <th>date</th>\n",
       "      <th>debate</th>\n",
       "      <th>link</th>\n",
       "      <th>year</th>\n",
       "    </tr>\n",
       "  </thead>\n",
       "  <tbody>\n",
       "    <tr>\n",
       "      <th>42</th>\n",
       "      <td>2012-01-07</td>\n",
       "      <td>Republican  Candidates Debate in Manchester, New Hampshire</td>\n",
       "      <td>http://www.presidency.ucsb.edu/ws/index.php?pid=98813</td>\n",
       "      <td>2012</td>\n",
       "    </tr>\n",
       "  </tbody>\n",
       "</table>\n",
       "</div>"
      ],
      "text/plain": [
       "         date                                                      debate  \\\n",
       "42 2012-01-07  Republican  Candidates Debate in Manchester, New Hampshire   \n",
       "\n",
       "                                                     link  year  \n",
       "42  http://www.presidency.ucsb.edu/ws/index.php?pid=98813  2012  "
      ]
     },
     "execution_count": 4,
     "metadata": {},
     "output_type": "execute_result"
    }
   ],
   "source": [
    "df[df.year >= 2012].sort_values(by='year').head(1)"
   ]
  },
  {
   "cell_type": "code",
   "execution_count": 5,
   "metadata": {
    "collapsed": false
   },
   "outputs": [
    {
     "data": {
      "text/html": [
       "<div>\n",
       "<table border=\"1\" class=\"dataframe\">\n",
       "  <thead>\n",
       "    <tr style=\"text-align: right;\">\n",
       "      <th></th>\n",
       "      <th>date</th>\n",
       "      <th>debate</th>\n",
       "      <th>link</th>\n",
       "      <th>year</th>\n",
       "    </tr>\n",
       "  </thead>\n",
       "  <tbody>\n",
       "    <tr>\n",
       "      <th>55</th>\n",
       "      <td>2011-06-13</td>\n",
       "      <td>Republican  Candidates Debate in Manchester, New Hampshire</td>\n",
       "      <td>http://www.presidency.ucsb.edu/ws/index.php?pid=90513</td>\n",
       "      <td>2011</td>\n",
       "    </tr>\n",
       "  </tbody>\n",
       "</table>\n",
       "</div>"
      ],
      "text/plain": [
       "         date                                                      debate  \\\n",
       "55 2011-06-13  Republican  Candidates Debate in Manchester, New Hampshire   \n",
       "\n",
       "                                                     link  year  \n",
       "55  http://www.presidency.ucsb.edu/ws/index.php?pid=90513  2011  "
      ]
     },
     "execution_count": 5,
     "metadata": {},
     "output_type": "execute_result"
    }
   ],
   "source": [
    "df[df.year >= 2011].sort_values(by='year').head(1)"
   ]
  },
  {
   "cell_type": "code",
   "execution_count": 6,
   "metadata": {
    "collapsed": false
   },
   "outputs": [
    {
     "data": {
      "text/html": [
       "<div>\n",
       "<table border=\"1\" class=\"dataframe\">\n",
       "  <thead>\n",
       "    <tr style=\"text-align: right;\">\n",
       "      <th></th>\n",
       "      <th>date</th>\n",
       "      <th>debate</th>\n",
       "      <th>link</th>\n",
       "      <th>year</th>\n",
       "    </tr>\n",
       "  </thead>\n",
       "  <tbody>\n",
       "    <tr>\n",
       "      <th>83</th>\n",
       "      <td>2008-01-05</td>\n",
       "      <td>Republican Candidates    Debate in Manchester, New Hampshire</td>\n",
       "      <td>http://www.presidency.ucsb.edu/ws/index.php?pid=76223</td>\n",
       "      <td>2008</td>\n",
       "    </tr>\n",
       "  </tbody>\n",
       "</table>\n",
       "</div>"
      ],
      "text/plain": [
       "         date                                                        debate  \\\n",
       "83 2008-01-05  Republican Candidates    Debate in Manchester, New Hampshire   \n",
       "\n",
       "                                                     link  year  \n",
       "83  http://www.presidency.ucsb.edu/ws/index.php?pid=76223  2008  "
      ]
     },
     "execution_count": 6,
     "metadata": {},
     "output_type": "execute_result"
    }
   ],
   "source": [
    "df[df.year >= 2008].sort_values(by='year').head(1)"
   ]
  },
  {
   "cell_type": "markdown",
   "metadata": {},
   "source": [
    "# Keep Scrolling Below at your own Peril!"
   ]
  },
  {
   "cell_type": "code",
   "execution_count": 7,
   "metadata": {
    "collapsed": false,
    "scrolled": false
   },
   "outputs": [],
   "source": [
    "class Utterance(object):\n",
    "    def __init__(self, speaker, text):\n",
    "        self.speaker = speaker\n",
    "        self.text = text\n",
    "    \n",
    "    def __str__(self):\n",
    "        return self.speaker + \": \" + self.text\n",
    "    \n",
    "    def __repr__(self):\n",
    "        return str((self.speaker, self.text))\n",
    "\n",
    "def parse_debate(url):\n",
    "\n",
    "    response = requests.get(url)\n",
    "    doc = lxml.html.fromstring(response.content)\n",
    "\n",
    "    text = doc.cssselect(\"span.displaytext\")[0]\n",
    "    elements = text.getchildren()\n",
    "\n",
    "    first_p_tag_index = None\n",
    "    for i, el in enumerate(elements):\n",
    "        if el.tag == \"p\":\n",
    "            first_p_tag_index = i\n",
    "            break\n",
    "\n",
    "    assert all(el.tag == \"p\" for el in elements[first_p_tag_index:])\n",
    "\n",
    "    if \"MODERATOR\" in elements[first_p_tag_index].text_content():\n",
    "        first_p_tag_index += 1\n",
    "\n",
    "    p_tags = elements[first_p_tag_index:]\n",
    "\n",
    "    utterances = []\n",
    "\n",
    "    current_speaker = None\n",
    "\n",
    "    for p_tag in p_tags:\n",
    "\n",
    "        if p_tag.cssselect(\"b\"):\n",
    "            b_tag = p_tag.cssselect(\"b\")[0]\n",
    "            current_speaker = b_tag.text_content()\n",
    "            current_text = p_tag.text_content().replace(current_speaker, \"\", 1).strip()\n",
    "            current_speaker = current_speaker.rstrip(\":\")\n",
    "        else:\n",
    "            current_text = p_tag.text_content()\n",
    "\n",
    "        if len(utterances) > 0 and utterances[-1].speaker == current_speaker:\n",
    "            utterances[-1].text += \"\\n\"\n",
    "            utterances[-1].text += current_text\n",
    "        else:\n",
    "            utterance = Utterance(current_speaker, current_text)    \n",
    "            utterances.append(utterance)\n",
    "    \n",
    "    return utterances"
   ]
  },
  {
   "cell_type": "code",
   "execution_count": 8,
   "metadata": {
    "collapsed": false
   },
   "outputs": [
    {
     "name": "stdout",
     "output_type": "stream",
     "text": [
      "('BLITZER', \"Secretary Clinton and Senator Sanders, you can now move to your lecterns while I explain a few ground rules. As moderator, I'll guide the discussion, asking questions and follow-ups. You'll also get questions from Dana Bash and Errol Louis. You'll each have one minute and 15 seconds to answer questions, 30 seconds for follow- ups. Timing lights will signal when your time is up. Both candidates have agreed to these rules now. Opening statements, you'll each have two minutes.\\nLet's begin with Senator Sanders. [applause] \")\n",
      "------------------\n",
      "('SANDERS', \"Wolf, thank you very much. CNN, thank you very much. Secretary Clinton, thank you very much.\\nWhen we began this campaign almost a year ago, we started off at 3 percent in the polls. We were about 70 points behind Secretary Clinton. In the last couple of weeks, there were two polls out there that had us ahead. [applause] \\nOf the last nine caucuses and primaries, we have won eight of them, many of them by landslide victories. [applause] \\nOver the last year, we have received almost 7 million individual campaign contributions, averaging — guess what — $27 apiece, more individual campaign contributions than any candidate in American history at this point in a campaign.\\nThe reason that our campaign has done so well is because we're doing something very radical: We're telling the American people the truth. And the truth is that this country is not going to move forward in a significant way for working people unless we overturn this disastrous Citizens United Supreme Court decision...[applause]... and unless we have real campaign reform so that billionaires and super PACs cannot buy elections. [applause] \\nThis campaign is also determined to end a rigged economy where the rich get richer and everybody else get poorer, and create an economy that works for all of us, not just the 1 percent.\\nThank you.\")\n",
      "------------------\n",
      "('BLITZER', 'Secretary Clinton?')\n",
      "------------------\n"
     ]
    }
   ],
   "source": [
    "# April 14, 2016 - Democratic Candidates Debate in Brooklyn, New York\n",
    "utterances = parse_debate(\"http://www.presidency.ucsb.edu/ws/index.php?pid=116995\")\n",
    "for utterance in utterances[:3]:\n",
    "    print(repr(utterance))\n",
    "    print(\"------------------\")"
   ]
  },
  {
   "cell_type": "code",
   "execution_count": 9,
   "metadata": {
    "collapsed": false
   },
   "outputs": [
    {
     "name": "stdout",
     "output_type": "stream",
     "text": [
      "('HEMMER', \"This is first official event in the campaign for the Republican nomination for president. Welcome to Cleveland Ohio. It is debate night.\\nI'm Bill Hemmer. \")\n",
      "------------------\n",
      "('MacCALLUM', \"And I'm Martha MacCallum.\\nIt all starts here. We are ready, the candidates are ready. We're live at the Quicken Loans Arena, where we have partnered with Facebook to bring you, the voter, into today's debate. \")\n",
      "------------------\n",
      "('HEMMER', \"So you will hear from all 17 candidates tonight, and you'll meet seven of them right now, starting with three-time governor in the state of Texas, Rick Perry. [applause]\")\n",
      "------------------\n"
     ]
    }
   ],
   "source": [
    "# 2015-08-06 - Republican Candidates \"Undercard\" Debate in Cleveland, Ohio\n",
    "utterances = parse_debate(\"http://www.presidency.ucsb.edu/ws/index.php?pid=110757\")\n",
    "for utterance in utterances[:3]:\n",
    "    print(repr(utterance))\n",
    "    print(\"------------------\")"
   ]
  },
  {
   "cell_type": "code",
   "execution_count": 10,
   "metadata": {
    "collapsed": false
   },
   "outputs": [
    {
     "name": "stdout",
     "output_type": "stream",
     "text": [
      "('SAWYER', 'And good evening to all of you. Welcome to Saint Anselm College and the first debate of the year, 2012. The voting is underway. And, George, those eight votes in Iowa reminded us on Tuesday every vote counts.')\n",
      "------------------\n",
      "('STEPHANOPOULOS', \"No question about it, we are off and running. Great to be here with you, Josh. And now let's introduce the candidates: former Governor Jon Huntsman; Texas Congressman Ron Paul; former Governor of Massachusetts Mitt Romney; former Senator from Pennsylvania Rick Santorum; the former speaker of the House, Newt Gingrich; and Texas Governor Rick Perry.\")\n",
      "------------------\n",
      "('SAWYER', \"And it is time to remind everyone again of the rules, which are pretty straightforward, and we remind you again, they were negotiated and agreed to by the candidates themselves. So let's take you through them.\\nOne-minute responses to the question, with 30 seconds for rebuttal. And we're showing everybody at home that the candidates will see green, and then when there's 15 seconds left, it will turn yellow and red when the time is up. \\nOur audience was chosen by Saint Anselm College and WMUR. And all of you at home can watch on abcnews.com and yahoo.com. You can even join the discussion by downloading Yahoo's IntoNow app on your iPhone. You can pitch in your opinions during the debate.\\nSo lets the -- let the debate begin.\\nAnd, Governor Romney, we'll begin with you. We just saw 200,000 new jobs created last month, and there are optimists who say this is the signal that this economy is finally turning around. Are you with those optimists? \")\n",
      "------------------\n"
     ]
    }
   ],
   "source": [
    "# 2012-01-07 - http://www.presidency.ucsb.edu/ws/index.php?pid=98813\n",
    "utterances = parse_debate(\"http://www.presidency.ucsb.edu/ws/index.php?pid=98813\")\n",
    "for utterance in utterances[:3]:\n",
    "    print(repr(utterance))\n",
    "    print(\"------------------\")"
   ]
  },
  {
   "cell_type": "code",
   "execution_count": 11,
   "metadata": {
    "collapsed": false
   },
   "outputs": [
    {
     "name": "stdout",
     "output_type": "stream",
     "text": [
      "('JOHN KING', \"Welcome to Saint Anselm College in Manchester, New Hampshire, and the first Republican presidential debate in this first-in-the-nation primary state. Behind me on this stage, the Republican candidates for president appearing together on the same stage for the first time tonight.\\nAnd tonight's debate will be different than any presidential debate you've ever seen. Over the course of the next two hours, in addition to questions from myself and journalists from our partners, WMUR and the New Hampshire Union Leader, the candidates will take questions directly from voters right here in Manchester, as well as from voters at town meetings taking place tonight all across New Hampshire. \\nSo let's get right to it and meet the candidates. Now, we've asked for no opening statements. However, we will continue a tradition from our past New Hampshire debates, to ask each candidate in one short sentence -- hopefully, five, maybe six or seven seconds -- to introduce themselves to the voters of New Hampshire and the United States of America. \\nLet me begin with an example. I'm John King with CNN. I am honored to be your moderator tonight, and I am thrilled to be back in Red Sox nation. \\n[Applause]\\nNow, let's start at the edge of the stage with Senator Rick Santorum. \")\n",
      "------------------\n",
      "('SANTORUM', \"Hello, New Hampshire. I'm Rick Santorum. I served 12 years representing Pennsylvania in the United States Senate, but I also have substantial executive experience making the tough decisions and balancing budgets and cutting spending. Karen and I are the parents of seven children.\\n[Applause]\")\n",
      "------------------\n",
      "('KING', 'Congresswoman?')\n",
      "------------------\n"
     ]
    }
   ],
   "source": [
    "# 2011-06-13 - Republican Candidates Debate in Manchester, New Hampshire\n",
    "utterances = parse_debate(\"http://www.presidency.ucsb.edu/ws/index.php?pid=90513\")\n",
    "for utterance in utterances[:3]:\n",
    "    print(repr(utterance))\n",
    "    print(\"------------------\")"
   ]
  },
  {
   "cell_type": "code",
   "execution_count": 12,
   "metadata": {
    "collapsed": false,
    "scrolled": true
   },
   "outputs": [
    {
     "name": "stdout",
     "output_type": "stream",
     "text": [
      "('DIANE SAWYER', \"Well, it is time for the great debate to begin. Let's go to Charlie Gibson at St. Anselm College in Manchester, New Hampshire.\\nCharlie? \")\n",
      "------------------\n",
      "('CHARLIE GIBSON', 'Thanks very much, Diane.\\nAnd we have been joined on the stage by the six leading Republican candidates for the Republican nomination for president. And I want to introduce them to you from left to right. \\nThe positions in which they sit were drawn by lot, and so let me introduce them from left to right: Senator John McCain from the state of Arizona, former Senator Fred Thompson from Tennessee, Congressman Ron Paul from Texas, former Governor Mitt Romney of Massachusetts, former Governor Mike Huckabee from Arkansas, and former Mayor Rudy Giuliani from the city of New York. \\nAnd, gentlemen, just at the risk of being repetitive, I hope you will take the questions posed in these first 45 minutes and I hope, to the extent we can, discuss them among yourselves. ')\n",
      "------------------\n",
      "('MR. GIBSON', 'This is not about me asking questions, as I told the national audience a few moments ago, but about you talking to one another, pointing up the differences between yourselves.\\nI hope you will think of this as sort of a semi-circular dining room table. We were a little chintzy on the food, but I hope you will look at it that way. \\n(LAUGHTER) \\nI thank you all for being here and I genuinely look forward to this, so let us begin. And I\\'ll start the stop-watch. \\nPresident Bush said in his end-of-the-year news conference, \"During the primaries and during the general election I suspect my name may come up a lot.\" So let\\'s bring it up. \\nI want to start with foreign policy. Just to set some context, we\\'ve got a little background here from ABC\\'s Jonathan Karl. \\n(BEGIN VIDEOTAPE) ')\n",
      "------------------\n"
     ]
    }
   ],
   "source": [
    "# 2008-01-05 - Republican Candidates Debate in Manchester, New Hampshire\n",
    "utterances = parse_debate(\"http://www.presidency.ucsb.edu/ws/index.php?pid=76223\")\n",
    "for utterance in utterances[:3]:\n",
    "    print(repr(utterance))\n",
    "    print(\"------------------\")"
   ]
  },
  {
   "cell_type": "markdown",
   "metadata": {},
   "source": [
    "Similar Analysis: http://www.realclearpolitics.com/articles/2016/04/14/debate_text_analysis_trump_is_the_moderate_130275.html"
   ]
  }
 ],
 "metadata": {
  "kernelspec": {
   "display_name": "Python 3",
   "language": "python",
   "name": "python3"
  },
  "language_info": {
   "codemirror_mode": {
    "name": "ipython",
    "version": 3
   },
   "file_extension": ".py",
   "mimetype": "text/x-python",
   "name": "python",
   "nbconvert_exporter": "python",
   "pygments_lexer": "ipython3",
   "version": "3.5.1"
  }
 },
 "nbformat": 4,
 "nbformat_minor": 0
}
