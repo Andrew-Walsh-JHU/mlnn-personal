{
 "cells": [
  {
   "cell_type": "code",
   "execution_count": 22,
   "metadata": {
    "collapsed": true
   },
   "outputs": [],
   "source": [
    "from sklearn.svm import LinearSVC\n",
    "from sklearn.linear_model import LogisticRegression\n",
    "from sklearn.naive_bayes import MultinomialNB\n",
    "from sklearn.neighbors import KNeighborsClassifier\n",
    "from sklearn.tree import DecisionTreeClassifier\n",
    "import pandas as pd\n",
    "import seaborn as sns\n",
    "import matplotlib.pyplot as plt\n",
    "%matplotlib inline\n",
    "sns.set(font_scale=1.5)"
   ]
  },
  {
   "cell_type": "markdown",
   "metadata": {},
   "source": [
    "Read in the Kobe Bryant shooting data [https://www.kaggle.com/c/kobe-bryant-shot-selection]"
   ]
  },
  {
   "cell_type": "code",
   "execution_count": 24,
   "metadata": {
    "collapsed": true
   },
   "outputs": [],
   "source": [
    "kobe = pd.read_csv('../data/kobe.csv')\n",
    "kobe.dropna(inplace=True)\n",
    "[(col, dtype) for col, dtype in zip(kobe.columns, kobe.dtypes) if dtype != 'object']\n",
    "num_columns = [col for col, dtype in zip(kobe.columns, kobe.dtypes) if dtype != 'object']\n",
    "\n",
    "# fit a linear regression model and store the predictions\n",
    "feature_cols = ['shot_distance', 'minutes_remaining']\n",
    "X = kobe[feature_cols] #kobe[['shot_distance', 'minutes_remaining']]\n",
    "y = kobe.shot_made_flag"
   ]
  },
  {
   "cell_type": "code",
   "execution_count": 28,
   "metadata": {
    "collapsed": false
   },
   "outputs": [
    {
     "name": "stdout",
     "output_type": "stream",
     "text": [
      "0.597190333502\n",
      "[[10626  3606]\n",
      " [ 6745  4720]]\n",
      "             precision    recall  f1-score   support\n",
      "\n",
      "        0.0       0.61      0.75      0.67     14232\n",
      "        1.0       0.57      0.41      0.48     11465\n",
      "\n",
      "avg / total       0.59      0.60      0.59     25697\n",
      "\n"
     ]
    },
    {
     "data": {
      "image/png": "[encoded data removed]",
      "text/plain": [
       "<matplotlib.figure.Figure at 0x118b5bf60>"
      ]
     },
     "metadata": {},
     "output_type": "display_data"
    }
   ],
   "source": [
    "# from sklearn.linear_model import LinearRegression as Model\n",
    "from sklearn.linear_model import LogisticRegression as Model\n",
    "# from sklearn.tree import DecisionTreeClassifier as Model\n",
    "# from sklearn.ensemble import RandomForestClassifier as Model\n",
    "model = Model()\n",
    "model.fit(X, y)\n",
    "pred = model.predict(X)\n",
    "# scatter plot that includes the regression line\n",
    "plt.scatter(kobe.shot_distance, kobe.shot_made_flag)\n",
    "plt.scatter(kobe.shot_distance, pred, color='red', alpha=.2)\n",
    "plt.xlabel('dist')\n",
    "plt.ylabel('made')\n",
    "\n",
    "print(accuracy_score(kobe.shot_made_flag, pred.round()))\n",
    "print(confusion_matrix(kobe.shot_made_flag, pred.round()))\n",
    "print(classification_report(kobe.shot_made_flag, pred.round()))\n"
   ]
  },
  {
   "cell_type": "code",
   "execution_count": 29,
   "metadata": {
    "collapsed": false
   },
   "outputs": [
    {
     "data": {
      "text/plain": [
       "array([ 0.59237651,  0.59354337,  0.59299611,  0.59688716,  0.61750973,\n",
       "        0.58388478,  0.60334761,  0.60918645,  0.60140132,  0.58388478])"
      ]
     },
     "execution_count": 29,
     "metadata": {},
     "output_type": "execute_result"
    }
   ],
   "source": [
    "from sklearn.linear_model import LogisticRegression as Model\n",
    "# from sklearn.tree import DecisionTreeClassifier as Model\n",
    "# from sklearn.ensemble import RandomForestClassifier as Model\n",
    "model = Model()\n",
    "\n",
    "from sklearn.metrics import (accuracy_score, \n",
    "                             classification_report, \n",
    "                             confusion_matrix, auc, roc_curve\n",
    "                            )\n",
    "from sklearn.metrics import *\n",
    "from sklearn import cross_validation\n",
    "\n",
    "X_train, X_test, y_train, y_test = cross_validation.train_test_split(\n",
    "    X, y, test_size=0.4, random_state=0)\n",
    "\n",
    "cross_validation.cross_val_score(model, X, y, cv=10)\n"
   ]
  }
 ],
 "metadata": {
  "kernelspec": {
   "display_name": "Python 3",
   "language": "python",
   "name": "python3"
  },
  "language_info": {
   "codemirror_mode": {
    "name": "ipython",
    "version": 3
   },
   "file_extension": ".py",
   "mimetype": "text/x-python",
   "name": "python",
   "nbconvert_exporter": "python",
   "pygments_lexer": "ipython3",
   "version": "3.5.0"
  }
 },
 "nbformat": 4,
 "nbformat_minor": 0
}
