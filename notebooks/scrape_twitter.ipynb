{
 "cells": [
  {
   "cell_type": "code",
   "execution_count": 12,
   "metadata": {},
   "outputs": [
    {
     "name": "stdout",
     "output_type": "stream",
     "text": [
      "Collecting cssselect\n",
      "  Downloading cssselect-1.0.1-py2.py3-none-any.whl\n",
      "Installing collected packages: cssselect\n",
      "Successfully installed cssselect-1.0.1\n"
     ]
    }
   ],
   "source": [
    "!pip3 install cssselect lxml requests"
   ]
  },
  {
   "cell_type": "code",
   "execution_count": 4,
   "metadata": {},
   "outputs": [],
   "source": [
    "import requests, lxml.html"
   ]
  },
  {
   "cell_type": "code",
   "execution_count": 5,
   "metadata": {
    "collapsed": true
   },
   "outputs": [],
   "source": [
    "response = requests.get(\"https://twitter.com/Metrorailinfo\")\n",
    "doc = lxml.html.fromstring(response.content)"
   ]
  },
  {
   "cell_type": "code",
   "execution_count": 14,
   "metadata": {
    "scrolled": true
   },
   "outputs": [
    {
     "name": "stdout",
     "output_type": "stream",
     "text": [
      "Blu/Sil Line: Normal service has resumed outside Morgan Boulevard.\n",
      "Blu/Sil Line: Expect residual delays in both directions due to an earlier disabled train outside Morgan Boulevard.\n",
      "Blu/Sil Line: Expect delays in both directions due to a disabled train outside Morgan Boulevard.\n",
      "Due to SafeTrack, there is no Yellow Line Rush+ service. Use the Blue or Yellow Line as alternates.\n",
      "Yellow Line: Trains operating btwn Huntington & Mt Vernon Sq only due to SafeTrack. For more info visit http://wmata.com\n",
      "Green Line: Trains every 6-8 minutes during peak periods only due to SafeTrack. For more info visit http://wmata.com\n",
      "Green Line: Thru April 29th, College Park & Greenbelt stations are closed due to SafeTrack. For more info visit http://wmata.com\n",
      "Green Line: Thru April 29th, buses replace trains btwn PG Plaza & Greenbelt due to SafeTrack. Limited shuttle buses available.\n",
      "Green Line: Until closing, trains every 20-25 min w/ single tracking btwn Southern Avenue & Naylor Road due to track work.\n",
      "Red Line: Until closing, trains every 20-25 min w/ single tracking btwn Van Ness & Dupont Circle due to track work.\n",
      "Green Line: Normal service has resumed at Navy Yard.\n",
      "Green Line: Delays possible in both directions due to post-baseball game travel at Navy Yard.\n",
      "SafeTrack Surge 14 starts tomorrow as buses replace trains btwn PG Plaza &  Greenbelt. For more info visit http://wmata.com/safetrack\n",
      "Wheaton: Escalator service has been restored.\n",
      "Wheaton: All entrance and platform escalators are out of service due to a power problem. Buses requested. The station remains open.\n",
      "Org/Blu/Slv Line: Normal service has resumed at Foggy Bottom.\n",
      "Org/Blu/Slv Line: No longer single tracking. Residual delays continue both directions due to an earlier track problem outside Foggy Bottom.\n",
      "Metrobus  routes 32, 36, 39 between Foggy Bottom & Farragut Sq. 30N & 30S via Pennsylvania Ave to Farragut Sq & Washington Cir. #wmata\n",
      "Org/Blu Line: Single tracking btwn Foggy Bottom & McPherson Sq. due to a track problem outside Foggy Bottom. Delays in both directions.\n",
      "Silver Line trains operating btwn Wiehle & Ballston due to a track problem at Foggy Bottom.  Use Orange/Blue Lines to/from other stations.\n"
     ]
    }
   ],
   "source": [
    "for el in doc.cssselect(\"div.js-tweet-text-container\"):\n",
    "    print(el.text_content().strip())"
   ]
  },
  {
   "cell_type": "code",
   "execution_count": 15,
   "metadata": {},
   "outputs": [
    {
     "name": "stdout",
     "output_type": "stream",
     "text": [
      "0 Blu/Sil Line: Normal service has resumed outside Morgan Boulevard.\n",
      "-------------------------------------\n",
      "1 Blu/Sil Line: Expect residual delays in both directions due to an earlier disabled train outside Morgan Boulevard.\n",
      "-------------------------------------\n",
      "2 Blu/Sil Line: Expect delays in both directions due to a disabled train outside Morgan Boulevard.\n",
      "-------------------------------------\n",
      "3 Due to SafeTrack, there is no Yellow Line Rush+ service. Use the Blue or Yellow Line as alternates.\n",
      "-------------------------------------\n",
      "4 Yellow Line: Trains operating btwn Huntington & Mt Vernon Sq only due to SafeTrack. For more info visit http://wmata.com\n",
      "-------------------------------------\n",
      "5 Green Line: Trains every 6-8 minutes during peak periods only due to SafeTrack. For more info visit http://wmata.com\n",
      "-------------------------------------\n",
      "6 Green Line: Thru April 29th, College Park & Greenbelt stations are closed due to SafeTrack. For more info visit http://wmata.com\n",
      "-------------------------------------\n",
      "7 Green Line: Thru April 29th, buses replace trains btwn PG Plaza & Greenbelt due to SafeTrack. Limited shuttle buses available.\n",
      "-------------------------------------\n",
      "8 Green Line: Until closing, trains every 20-25 min w/ single tracking btwn Southern Avenue & Naylor Road due to track work.\n",
      "-------------------------------------\n",
      "9 Red Line: Until closing, trains every 20-25 min w/ single tracking btwn Van Ness & Dupont Circle due to track work.\n",
      "-------------------------------------\n",
      "10 Green Line: Normal service has resumed at Navy Yard.\n",
      "-------------------------------------\n",
      "11 Green Line: Delays possible in both directions due to post-baseball game travel at Navy Yard.\n",
      "-------------------------------------\n",
      "12 SafeTrack Surge 14 starts tomorrow as buses replace trains btwn PG Plaza &  Greenbelt. For more info visit http://wmata.com/safetrack\n",
      "-------------------------------------\n",
      "13 Wheaton: Escalator service has been restored.\n",
      "-------------------------------------\n",
      "14 Wheaton: All entrance and platform escalators are out of service due to a power problem. Buses requested. The station remains open.\n",
      "-------------------------------------\n",
      "15 Org/Blu/Slv Line: Normal service has resumed at Foggy Bottom.\n",
      "-------------------------------------\n",
      "16 Org/Blu/Slv Line: No longer single tracking. Residual delays continue both directions due to an earlier track problem outside Foggy Bottom.\n",
      "-------------------------------------\n",
      "17 Metrobus  routes 32, 36, 39 between Foggy Bottom & Farragut Sq. 30N & 30S via Pennsylvania Ave to Farragut Sq & Washington Cir. #wmata\n",
      "-------------------------------------\n",
      "18 Org/Blu Line: Single tracking btwn Foggy Bottom & McPherson Sq. due to a track problem outside Foggy Bottom. Delays in both directions.\n",
      "-------------------------------------\n",
      "19 Silver Line trains operating btwn Wiehle & Ballston due to a track problem at Foggy Bottom.  Use Orange/Blue Lines to/from other stations.\n",
      "-------------------------------------\n"
     ]
    }
   ],
   "source": [
    "for i, el in enumerate(doc.cssselect(\"div.js-tweet-text-container\")):\n",
    "    print(i, el.text_content().strip())\n",
    "    print(\"-------------------------------------\")"
   ]
  },
  {
   "cell_type": "code",
   "execution_count": null,
   "metadata": {
    "collapsed": true
   },
   "outputs": [],
   "source": []
  }
 ],
 "metadata": {
  "kernelspec": {
   "display_name": "Python 3",
   "language": "python",
   "name": "python3"
  },
  "language_info": {
   "codemirror_mode": {
    "name": "ipython",
    "version": 3
   },
   "file_extension": ".py",
   "mimetype": "text/x-python",
   "name": "python",
   "nbconvert_exporter": "python",
   "pygments_lexer": "ipython3",
   "version": "3.5.2"
  }
 },
 "nbformat": 4,
 "nbformat_minor": 1
}
