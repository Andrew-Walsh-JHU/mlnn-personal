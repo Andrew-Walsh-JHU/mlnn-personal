{
 "cells": [
  {
   "cell_type": "markdown",
   "metadata": {
    "slideshow": {
     "slide_type": "slide"
    }
   },
   "source": [
    "# Classification with Naive Bayes"
   ]
  },
  {
   "cell_type": "markdown",
   "metadata": {
    "slideshow": {
     "slide_type": "slide"
    }
   },
   "source": [
    "### Probability Theory"
   ]
  },
  {
   "cell_type": "markdown",
   "metadata": {},
   "source": [
    "#### Dependences vs Independence\n",
    "- **Dependence**: Two events E and F are dependent when knowing something about whether E happens gives us information about whether F happens (and vice versa).\n",
    "- **Independence**: We say that two events E and F are independent if the probability that they both happen is the product of the probabilities that each one hapens: $P(E,F) = P(E) \\cdot P(F)$\n",
    "\n",
    "For example, when flipping a coin twice, knowing whether the first flip is Heads or Tails gives us no information about whether the second flip is Heads. However, knowing whether the first flip is Heads gives us information about whether **both flips** are Tails."
   ]
  },
  {
   "cell_type": "markdown",
   "metadata": {
    "slideshow": {
     "slide_type": "slide"
    }
   },
   "source": [
    "<img src=\"https://oscarbonilla.com/assets/img/bayes/venn-a.png\" style=\"height: 300px\" align=\"middle\"></img>\n",
    "\n",
    "- **Sample Space**: The set of all possible outcomes. The \"universe\" in this picture above. \n",
    "- **Cardinality**: The number of elements in a set. The \"pipe\" symbol represents cardinality. $|A|$ is the number of elements in A.\n",
    "\n",
    "Let's define the event \"people with cancer\" as $A$ and \"people with no cancer\" as $\\neg A$.\n",
    "\n",
    "What is the probability of A?\n",
    "\n",
    "$$P(A) = \\frac{|A|}{|U|}$$"
   ]
  },
  {
   "cell_type": "markdown",
   "metadata": {
    "slideshow": {
     "slide_type": "notes"
    }
   },
   "source": [
    "Say we are studying cancer, so we observe people and see whether they have cancer or not. If we take as our Universe all people participating in our study, then there are two possible outcomes for any particular individual, either he has cancer or not.\n",
    "\n",
    "--------------------------------------------------------------------------------\n",
    "\n",
    "Questions:\n",
    "\n",
    "What is the max probability of A?\n",
    "\n",
    "Since $|A| <= |U|$ (number of elements of A <= number of elements of U), $P(A) <= 1$ (probability <= 100%)."
   ]
  },
  {
   "cell_type": "markdown",
   "metadata": {
    "slideshow": {
     "slide_type": "slide"
    }
   },
   "source": [
    "<img src=\"https://oscarbonilla.com/assets/img/bayes/venn-b.png\" style=\"height: 300px\" align=\"middle\"></img>\n",
    "\n",
    "Let's define the event \"people who tested positive for cancer\" as $B$ and \"people who tested negative for cancer\" as $\\neg B$.\n",
    "\n",
    "What is the probability of B?\n",
    "\n",
    "$$P(B) = \\frac{|B|}{|U|}$$"
   ]
  },
  {
   "cell_type": "markdown",
   "metadata": {
    "slideshow": {
     "slide_type": "notes"
    }
   },
   "source": [
    "Let’s say there is a new screening test that is supposed to test for cancer. That test will be “positive” for some people, and “negative” for some other people. If we take the event $B$ to mean “people for which the test is positive”. "
   ]
  },
  {
   "cell_type": "markdown",
   "metadata": {
    "slideshow": {
     "slide_type": "slide"
    }
   },
   "source": [
    "<img src=\"https://oscarbonilla.com/assets/img/bayes/venn-last.png\" style=\"height: 300px\" align=\"middle\"></img>\n",
    "\n",
    "- Event A: People with cancer\n",
    "- Event B: People who tested positive for cancer\n",
    "\n",
    "What is the probability of AB?\n",
    "\n",
    "$$P(AB) = \\frac{|AB|}{|U|}$$"
   ]
  },
  {
   "cell_type": "markdown",
   "metadata": {
    "slideshow": {
     "slide_type": "fragment"
    }
   },
   "source": [
    "Given that the test is positive for a randomly selected individual, what is the probability that said individual has cancer?\n",
    "\n",
    "$$P(A|B) = \\frac{|AB|}{|B|}$$"
   ]
  },
  {
   "cell_type": "markdown",
   "metadata": {
    "slideshow": {
     "slide_type": "notes"
    }
   },
   "source": [
    "Questions:\n",
    "\n",
    "How would you describe the “cancer status” and “test status” of people in each portion of the diagram (by color)?\n",
    "\n",
    "- Pink: cancer, negative test\n",
    "- Purple: cancer, positive test\n",
    "- Blue: no cancer, positive test\n",
    "- White: no cancer, negative test\n",
    "\n",
    "--------------------------------------------------------------------------------\n",
    "\n",
    "Conditional Probability Notes\n",
    "\n",
    "The notation for this is P(A|B) and it is read “the probability of A given B”.\n",
    "\n",
    "- Given that we are in region B, what is the probability that we are in region AB?\n",
    "- If we make region B our new Universe, what is the probability of A?\n",
    "\n"
   ]
  },
  {
   "cell_type": "markdown",
   "metadata": {
    "slideshow": {
     "slide_type": "slide"
    }
   },
   "source": [
    "<img src=\"https://oscarbonilla.com/assets/img/bayes/venn-justb.png\" style=\"height: 300px\" align=\"middle\"></img>"
   ]
  },
  {
   "cell_type": "markdown",
   "metadata": {
    "slideshow": {
     "slide_type": "notes"
    }
   },
   "source": [
    "What we’ve effectively done is change the Universe from U (all people), to B (people for whom the test is positive).\n",
    "\n",
    "This is known as **transforming the sample space**."
   ]
  },
  {
   "cell_type": "markdown",
   "metadata": {
    "slideshow": {
     "slide_type": "slide"
    }
   },
   "source": [
    "#### Conditional Probability\n",
    "\n",
    "Probability that one event occurs _given_ that another event has occurred.\n",
    "\n",
    "-----------------------------------------------------------------------------\n",
    "\n",
    "Probability of A given B (prob of cancer given that the test is positive) \n",
    "\n",
    "$$ P(A|B) = \\frac{P(AB)}{P(B)} $$\n",
    "\n",
    "Probability of B given A (prob of testing positive given that you have cancer)\n",
    "\n",
    "$$ P(B|A) = \\frac{P(AB)}{P(A)} $$\n",
    "\n",
    "Note that when writing a **joint probability** the order does not matter $P(AB) == P(BA)$."
   ]
  },
  {
   "cell_type": "markdown",
   "metadata": {
    "slideshow": {
     "slide_type": "fragment"
    }
   },
   "source": [
    "#### General Multiplicative Rule for Probability\n",
    "\n",
    "$$ P(AB) = P(A | B) \\cdot P(B) $$\n",
    "\n",
    "Note that this is just the conditional probability rearranged."
   ]
  },
  {
   "cell_type": "markdown",
   "metadata": {
    "slideshow": {
     "slide_type": "fragment"
    }
   },
   "source": [
    "#### Bayes Rule\n",
    "\n",
    "$$\n",
    "P(A|B) = \\frac{P(AB)}{P(B)} = \\frac{P(B|A) \\cdot P(A)}{P(B)}\n",
    "$$"
   ]
  },
  {
   "cell_type": "markdown",
   "metadata": {
    "slideshow": {
     "slide_type": "slide"
    }
   },
   "source": [
    "#### Probability Example\n",
    "\n",
    "Researchers randomly assigned 72 chronic users of cocaine into three groups: desipramine (antidepressant), lithium (standard treatment for cocaine) and placebo. Results of the study are summarized below.\n",
    "\n",
    "|            | relapse |  no relapse  |  total  |\n",
    "|-----------:|:-------:|:------------:|:-------:|\n",
    "|desipramine |10       |14            |24       |\n",
    "|lithium     |18       | 6            |24       |\n",
    "|placebo     |20       | 4            |24       |\n",
    "|total       |48       |24            |72       |"
   ]
  },
  {
   "cell_type": "markdown",
   "metadata": {
    "slideshow": {
     "slide_type": "notes"
    }
   },
   "source": [
    "WRITE THESE QUESTIONS ON THE BOARD AND HAVE PEOPLE SOLVE THEM\n",
    "\n",
    "Marginal Probability\n",
    "\n",
    "P(relapsed) = 48 / 72 ~ 0.67\n",
    "\n",
    "Joint Probability\n",
    "\n",
    "P(relapsed and desipramine) = 10 / 72 ~ 0.14\n",
    "\n",
    "Conditional Probability\n",
    "- P(relapse | desipramine) = P(relapsed and desipramine) / P(desipramine) = (10/72) / (24/72) = .42\n",
    "- P(relapse | lithium) = 18 / 24 ~ 0.75\n",
    "- P(relapse | placebo) = 20 / 24 ~ 0.83"
   ]
  },
  {
   "cell_type": "markdown",
   "metadata": {
    "slideshow": {
     "slide_type": "slide"
    }
   },
   "source": [
    "#### Generative vs Discriminative Learning Algorithms\n",
    "\n",
    "Read More: \n",
    "[On Discrminative vs. Generative Classifiers: A comparision of logistic regression and naive Bayes by Andrew Ng and Michael Jordan](http://ai.stanford.edu/~ang/papers/nips01-discriminativegenerative.pdf)\n"
   ]
  },
  {
   "cell_type": "markdown",
   "metadata": {
    "slideshow": {
     "slide_type": "notes"
    }
   },
   "source": [
    "talk about how discriminative learning algorithms learn the DIFFERENCE between multiple classes. i.e. a logistic regression trying to find the best fit line between the classes\n",
    "\n",
    "generative learning models looks at each class individually and tries to learn that class in of itself. then it looks at a new observation and sees which model (for each class) it more closely resembles\n",
    "\n"
   ]
  },
  {
   "cell_type": "markdown",
   "metadata": {
    "slideshow": {
     "slide_type": "slide"
    }
   },
   "source": [
    "### Naive Bayes\n",
    "\n",
    "$$\n",
    "P(y \\mid x_1, \\dots, x_n) = \\frac{P(y) P(x_1, \\dots x_n \\mid y)}\n",
    "                                 {P(x_1, \\dots, x_n)}\n",
    "$$\n",
    "\n",
    "$$P(x_i | y, x_1, \\dots, x_{i-1}, x_{i+1}, \\dots, x_n) = P(x_i | y)$$\n",
    "\n",
    "\n",
    "$$\n",
    "P(y \\mid x_1, \\dots, x_n) = \\frac{P(y) \\prod_{i=1}^{n} P(x_i \\mid y)}\n",
    "                                 {P(x_1, \\dots, x_n)}\n",
    "$$\n",
    "\n",
    "$$P(y \\mid x_1, \\dots, x_n) \\propto P(y) \\prod_{i=1}^{n} P(x_i \\mid y)$$\n",
    "\n",
    "$$\\Downarrow$$\n",
    "\n",
    "$$\\hat{y} = \\arg\\max_y P(y) \\prod_{i=1}^{n} P(x_i \\mid y)$$\n"
   ]
  },
  {
   "cell_type": "markdown",
   "metadata": {
    "slideshow": {
     "slide_type": "skip"
    }
   },
   "source": [
    "#### Laplace Smoothing\n",
    "\n",
    "$$\\frac{x + k}{N+2k}$$\n",
    "\n",
    "Source: https://en.wikipedia.org/wiki/Additive_smoothing"
   ]
  },
  {
   "cell_type": "markdown",
   "metadata": {
    "collapsed": true,
    "slideshow": {
     "slide_type": "slide"
    }
   },
   "source": [
    "### Sources\n",
    "- [General Assembly Data Science 8 DC Notebooks](https://github.com/justmarkham/DAT8) by Kevin Markham [LinkedIn](https://www.linkedin.com/in/justmarkham) | [Twitter](https://twitter.com/justmarkham) | [Github](https://github.com/justmarkham) | [Website](http://www.dataschool.io/about/)\n",
    "- Andrew Ng CS229 Video Lectures / Lecture Notes\n",
    "- https://oscarbonilla.com/2009/05/visualizing-bayes-theorem/\n",
    "- https://docs.google.com/presentation/d/1psUIyig6OxHQngGEHr3TMkCvhdLInnKnclQoNUr4G4U/edit#slide=id.gfc69f484_023"
   ]
  }
 ],
 "metadata": {
  "celltoolbar": "Slideshow",
  "kernelspec": {
   "display_name": "Python 3",
   "language": "python",
   "name": "python3"
  },
  "language_info": {
   "codemirror_mode": {
    "name": "ipython",
    "version": 3
   },
   "file_extension": ".py",
   "mimetype": "text/x-python",
   "name": "python",
   "nbconvert_exporter": "python",
   "pygments_lexer": "ipython3",
   "version": "3.5.1"
  }
 },
 "nbformat": 4,
 "nbformat_minor": 0
}
