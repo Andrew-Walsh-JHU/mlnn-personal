{
 "cells": [
  {
   "cell_type": "code",
   "execution_count": 1,
   "metadata": {
    "collapsed": true
   },
   "outputs": [],
   "source": [
    "import requests, lxml.html\n",
    "import pandas as pd\n",
    "from IPython.display import display, Image\n",
    "\n",
    "pd.set_option('display.max_colwidth', 100)"
   ]
  },
  {
   "cell_type": "code",
   "execution_count": 2,
   "metadata": {
    "collapsed": false
   },
   "outputs": [
    {
     "data": {
      "text/html": [
       "<div>\n",
       "<table border=\"1\" class=\"dataframe\">\n",
       "  <thead>\n",
       "    <tr style=\"text-align: right;\">\n",
       "      <th></th>\n",
       "      <th>item_id</th>\n",
       "      <th>link</th>\n",
       "    </tr>\n",
       "  </thead>\n",
       "  <tbody>\n",
       "    <tr>\n",
       "      <th>0</th>\n",
       "      <td>5549206236</td>\n",
       "      <td>http://washingtondc.craigslist.org/doc/apa/5549206236.html</td>\n",
       "    </tr>\n",
       "    <tr>\n",
       "      <th>1</th>\n",
       "      <td>5549168290</td>\n",
       "      <td>http://washingtondc.craigslist.org/doc/apa/5549168290.html</td>\n",
       "    </tr>\n",
       "    <tr>\n",
       "      <th>2</th>\n",
       "      <td>5549112878</td>\n",
       "      <td>http://washingtondc.craigslist.org/doc/apa/5549112878.html</td>\n",
       "    </tr>\n",
       "    <tr>\n",
       "      <th>3</th>\n",
       "      <td>5549194740</td>\n",
       "      <td>http://washingtondc.craigslist.org/nva/apa/5549194740.html</td>\n",
       "    </tr>\n",
       "    <tr>\n",
       "      <th>4</th>\n",
       "      <td>5549187428</td>\n",
       "      <td>http://washingtondc.craigslist.org/nva/apa/5549187428.html</td>\n",
       "    </tr>\n",
       "  </tbody>\n",
       "</table>\n",
       "</div>"
      ],
      "text/plain": [
       "      item_id                                                        link\n",
       "0  5549206236  http://washingtondc.craigslist.org/doc/apa/5549206236.html\n",
       "1  5549168290  http://washingtondc.craigslist.org/doc/apa/5549168290.html\n",
       "2  5549112878  http://washingtondc.craigslist.org/doc/apa/5549112878.html\n",
       "3  5549194740  http://washingtondc.craigslist.org/nva/apa/5549194740.html\n",
       "4  5549187428  http://washingtondc.craigslist.org/nva/apa/5549187428.html"
      ]
     },
     "execution_count": 2,
     "metadata": {},
     "output_type": "execute_result"
    }
   ],
   "source": [
    "offset = 0\n",
    "response = requests.get(\"http://washingtondc.craigslist.org/search/apa?s=%s\" % offset)\n",
    "doc = lxml.html.fromstring(response.content)\n",
    "\n",
    "rows = []\n",
    "for row in doc.cssselect(\"div.content p.row\"):\n",
    "    item_id = row.get('data-pid')\n",
    "    repost_of = row.get('data-repost-of')\n",
    "    link = \"http://washingtondc.craigslist.org\" + row.cssselect('a')[0].get('href')\n",
    "    row = [item_id, link]\n",
    "    rows.append(row)\n",
    "df = pd.DataFrame(rows, columns=['item_id', 'link'])\n",
    "df.head()"
   ]
  },
  {
   "cell_type": "code",
   "execution_count": 3,
   "metadata": {
    "collapsed": false
   },
   "outputs": [
    {
     "name": "stdout",
     "output_type": "stream",
     "text": [
      "$3250 / 2br - 1100ft2 - UNIQUE CUSTOM BUILD IN PRIME LOCATION w/PARKING (U St/Shaw)\n",
      "--------------------------------------------------\n"
     ]
    },
    {
     "data": {
      "text/html": [
       "<img src=\"http://images.craigslist.org/01313_UT2Cpg2gMd_600x450.jpg\"/>"
      ],
      "text/plain": [
       "<IPython.core.display.Image object>"
      ]
     },
     "metadata": {},
     "output_type": "display_data"
    },
    {
     "name": "stdout",
     "output_type": "stream",
     "text": [
      "--------------------------------------------------\n",
      "\n",
      "Tired of living in a box that looks like all the other boxes? If so, you don't want to miss this. Asthetic: think industrial meets modern with a little wabi sabi and steampunk thrown in! If you don't know what that means...come have a look. First tenants post construction moving out of state-run don't walk!\n",
      "\n",
      "-2BR\n",
      "-2BA\n",
      "-2 floors\n",
      "-Private outdoor patio\n",
      "-ONE CAR OFF STREET PARKING optional @250/mo additional\n",
      "-Approx 1100 sf\n",
      "-A wall of pennies and backsplash of nickels painstakingly applied by hand\n",
      "-Acid stained concrete main level and bath floors, gleaming HWF on upper\n",
      "-Exposed brick wall\n",
      "-Exposed beams\n",
      "-Industrial fixtures\n",
      "-Concrete and copper bathroom sinks\n",
      "-Spray foam insulated building & new Pella windows =lower utility costs\n",
      "-Reclaimed woods used throughout for various design elements\n",
      "-Handmade towel bars, tp holders, hooks from industrial piping\n",
      "-Stainless appliances\n",
      "-Double closets in one BR and walk in closet in other\n",
      "-Washer/Dryer\n",
      "-TV/Cable/Sound prewired\n",
      "-Built in speaker system\n",
      "-Central heat/cooling\n",
      "-Gated rear entry to unit from well lit alleys\n",
      "-Electronic keyless door entry system\n",
      "AND MORE...\n",
      "\n",
      "Less than a block from Compass Coffee, Glen's Garden Market, Kit n Ace, Lettie Gooch, around the corner from the entire 9th st development (Mockingbird Hill, Eat the Rich, CVS, etc), a block from u st (too much to list), Howard Theatre, Atlantic Plumbing movie theatre and 2 blocks from metro. Nightlife and restaurants galore. Walk score of 98, transit score 81, and a bike score of 96.\n",
      "\n",
      "Available 5/1. One month's security deposit. Rent includes water, recycling, trash pickup. Tenant pays electric/phone/internet/cable.\n",
      "\n",
      "One owner is licensed Realtor(disclosure required by law).\n",
      "\n"
     ]
    }
   ],
   "source": [
    "response = requests.get(\"http://washingtondc.craigslist.org/doc/apa/5549206236.html\")\n",
    "doc = lxml.html.fromstring(response.content)\n",
    "\n",
    "print(doc.cssselect(\"section.body h2.postingtitle span.postingtitletext\")[0].text_content().strip())\n",
    "print(\"--------------------------------------------------\")\n",
    "\n",
    "first_image_in_carousel = doc.cssselect(\"section.body section.userbody div.slide.visible img\")\n",
    "if first_image_in_carousel:\n",
    "    img_url = first_image_in_carousel[0].get('src')\n",
    "    display(Image(url=img_url))\n",
    "\n",
    "print(\"--------------------------------------------------\")\n",
    "    \n",
    "print(doc.cssselect(\"#postingbody\")[0].text_content())"
   ]
  }
 ],
 "metadata": {
  "kernelspec": {
   "display_name": "Python 3",
   "language": "python",
   "name": "python3"
  },
  "language_info": {
   "codemirror_mode": {
    "name": "ipython",
    "version": 3
   },
   "file_extension": ".py",
   "mimetype": "text/x-python",
   "name": "python",
   "nbconvert_exporter": "python",
   "pygments_lexer": "ipython3",
   "version": "3.5.1"
  }
 },
 "nbformat": 4,
 "nbformat_minor": 0
}
