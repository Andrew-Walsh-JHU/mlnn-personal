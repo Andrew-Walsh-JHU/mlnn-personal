{
 "cells": [
  {
   "cell_type": "markdown",
   "metadata": {
    "slideshow": {
     "slide_type": "slide"
    }
   },
   "source": [
    "# Course Overview"
   ]
  },
  {
   "cell_type": "markdown",
   "metadata": {
    "slideshow": {
     "slide_type": "slide"
    }
   },
   "source": [
    "### Instructor Philosophy\n",
    "\n",
    "- Seek an optimal pace\n",
    "- Communicate early and often\n",
    "- Success is not a grade"
   ]
  },
  {
   "cell_type": "markdown",
   "metadata": {
    "slideshow": {
     "slide_type": "slide"
    }
   },
   "source": [
    "### Content Philosophy\n",
    "\n",
    "- Application-based approach\n",
    "- Balance depth with breadth\n",
    "- Modified based on experience\n",
    "- Course project"
   ]
  },
  {
   "cell_type": "markdown",
   "metadata": {
    "slideshow": {
     "slide_type": "slide"
    }
   },
   "source": [
    "### How to Succeed\n",
    "\n",
    "- Effort not prior knowledge\n",
    "- Ask questions\n",
    "- Help your classmates\n",
    "- Be patient with yourself"
   ]
  },
  {
   "cell_type": "markdown",
   "metadata": {
    "slideshow": {
     "slide_type": "slide"
    }
   },
   "source": [
    "### Typical Class\n",
    "\n",
    "- Discussion of Pre-Work\n",
    "- Lecture\n",
    "- Code walk-throughs\n",
    "- In-Class exercises\n",
    "- Homework assigned"
   ]
  },
  {
   "cell_type": "markdown",
   "metadata": {
    "slideshow": {
     "slide_type": "slide"
    }
   },
   "source": [
    "### GA Graduation Requirements\n",
    "\n",
    "- Homework - Complete 80%\n",
    "- Attendance - Miss MAX 2 classes\n",
    "- Final Project"
   ]
  },
  {
   "cell_type": "markdown",
   "metadata": {
    "slideshow": {
     "slide_type": "slide"
    }
   },
   "source": [
    "### Logistics\n",
    "\n",
    "- Bathrooms\n",
    "- Parking\n",
    "- Missing Class\n",
    "- Video Recordings\n",
    "- Slack instead of Email\n",
    "- Office Hours"
   ]
  }
 ],
 "metadata": {
  "celltoolbar": "Slideshow",
  "kernelspec": {
   "display_name": "Python 3",
   "language": "python",
   "name": "python3"
  },
  "language_info": {
   "codemirror_mode": {
    "name": "ipython",
    "version": 3
   },
   "file_extension": ".py",
   "mimetype": "text/x-python",
   "name": "python",
   "nbconvert_exporter": "python",
   "pygments_lexer": "ipython3",
   "version": "3.5.1"
  }
 },
 "nbformat": 4,
 "nbformat_minor": 0
}
