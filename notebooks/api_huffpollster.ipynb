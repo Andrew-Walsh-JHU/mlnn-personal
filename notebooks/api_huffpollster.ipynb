{
 "cells": [
  {
   "cell_type": "code",
   "execution_count": 1,
   "metadata": {
    "collapsed": true
   },
   "outputs": [],
   "source": [
    "import requests\n",
    "import pandas as pd\n",
    "\n",
    "pd.set_option('display.max_columns', 30)"
   ]
  },
  {
   "cell_type": "code",
   "execution_count": 2,
   "metadata": {
    "collapsed": true
   },
   "outputs": [],
   "source": [
    "polls = requests.get(\"http://elections.huffingtonpost.com/pollster/api/polls.json\").json()"
   ]
  },
  {
   "cell_type": "code",
   "execution_count": 3,
   "metadata": {
    "collapsed": false
   },
   "outputs": [
    {
     "data": {
      "text/html": [
       "<div>\n",
       "<table border=\"1\" class=\"dataframe\">\n",
       "  <thead>\n",
       "    <tr style=\"text-align: right;\">\n",
       "      <th></th>\n",
       "      <th>affiliation</th>\n",
       "      <th>end_date</th>\n",
       "      <th>id</th>\n",
       "      <th>last_updated</th>\n",
       "      <th>method</th>\n",
       "      <th>partisan</th>\n",
       "      <th>pollster</th>\n",
       "      <th>questions</th>\n",
       "      <th>source</th>\n",
       "      <th>sponsors</th>\n",
       "      <th>start_date</th>\n",
       "      <th>survey_houses</th>\n",
       "    </tr>\n",
       "  </thead>\n",
       "  <tbody>\n",
       "    <tr>\n",
       "      <th>0</th>\n",
       "      <td>None</td>\n",
       "      <td>2016-04-18</td>\n",
       "      <td>24320</td>\n",
       "      <td>2016-04-20T17:13:30.513Z</td>\n",
       "      <td>Automated Phone</td>\n",
       "      <td>Nonpartisan</td>\n",
       "      <td>Gravis Marketing</td>\n",
       "      <td>[{'name': '2016 Delaware Republican Presidenti...</td>\n",
       "      <td>http://gravismarketing.com/polling-and-market-...</td>\n",
       "      <td>[]</td>\n",
       "      <td>2016-04-17</td>\n",
       "      <td>[{'name': 'Gravis Marketing', 'party': 'N/A'}]</td>\n",
       "    </tr>\n",
       "    <tr>\n",
       "      <th>1</th>\n",
       "      <td>None</td>\n",
       "      <td>2016-04-19</td>\n",
       "      <td>24319</td>\n",
       "      <td>2016-04-20T17:02:37.561Z</td>\n",
       "      <td>Live Phone</td>\n",
       "      <td>Nonpartisan</td>\n",
       "      <td>Gallup</td>\n",
       "      <td>[{'name': 'Obama Job Approval', 'topic': 'obam...</td>\n",
       "      <td>http://www.gallup.com/poll/113980/Gallup-Daily...</td>\n",
       "      <td>[]</td>\n",
       "      <td>2016-04-17</td>\n",
       "      <td>[{'name': 'Gallup Poll', 'party': 'N/A'}]</td>\n",
       "    </tr>\n",
       "  </tbody>\n",
       "</table>\n",
       "</div>"
      ],
      "text/plain": [
       "  affiliation    end_date     id              last_updated           method  \\\n",
       "0        None  2016-04-18  24320  2016-04-20T17:13:30.513Z  Automated Phone   \n",
       "1        None  2016-04-19  24319  2016-04-20T17:02:37.561Z       Live Phone   \n",
       "\n",
       "      partisan          pollster  \\\n",
       "0  Nonpartisan  Gravis Marketing   \n",
       "1  Nonpartisan            Gallup   \n",
       "\n",
       "                                           questions  \\\n",
       "0  [{'name': '2016 Delaware Republican Presidenti...   \n",
       "1  [{'name': 'Obama Job Approval', 'topic': 'obam...   \n",
       "\n",
       "                                              source sponsors  start_date  \\\n",
       "0  http://gravismarketing.com/polling-and-market-...       []  2016-04-17   \n",
       "1  http://www.gallup.com/poll/113980/Gallup-Daily...       []  2016-04-17   \n",
       "\n",
       "                                    survey_houses  \n",
       "0  [{'name': 'Gravis Marketing', 'party': 'N/A'}]  \n",
       "1       [{'name': 'Gallup Poll', 'party': 'N/A'}]  "
      ]
     },
     "execution_count": 3,
     "metadata": {},
     "output_type": "execute_result"
    }
   ],
   "source": [
    "df_dumb = pd.DataFrame.from_dict(polls)\n",
    "df_dumb.head(2)"
   ]
  },
  {
   "cell_type": "code",
   "execution_count": 4,
   "metadata": {
    "collapsed": false
   },
   "outputs": [
    {
     "data": {
      "text/html": [
       "<div>\n",
       "<table border=\"1\" class=\"dataframe\">\n",
       "  <thead>\n",
       "    <tr style=\"text-align: right;\">\n",
       "      <th></th>\n",
       "      <th>chart</th>\n",
       "      <th>name</th>\n",
       "      <th>state</th>\n",
       "      <th>subpopulations</th>\n",
       "      <th>topic</th>\n",
       "    </tr>\n",
       "  </thead>\n",
       "  <tbody>\n",
       "    <tr>\n",
       "      <th>0</th>\n",
       "      <td>None</td>\n",
       "      <td>2016 Delaware Republican Presidential Primary</td>\n",
       "      <td>None</td>\n",
       "      <td>[{'name': 'Likely Voters - Republican', 'margi...</td>\n",
       "      <td>None</td>\n",
       "    </tr>\n",
       "    <tr>\n",
       "      <th>1</th>\n",
       "      <td>None</td>\n",
       "      <td>2016 Delaware Democratic Presidential Primary</td>\n",
       "      <td>None</td>\n",
       "      <td>[{'name': 'Likely Voters - Democrat', 'margin_...</td>\n",
       "      <td>None</td>\n",
       "    </tr>\n",
       "  </tbody>\n",
       "</table>\n",
       "</div>"
      ],
      "text/plain": [
       "  chart                                           name state  \\\n",
       "0  None  2016 Delaware Republican Presidential Primary  None   \n",
       "1  None  2016 Delaware Democratic Presidential Primary  None   \n",
       "\n",
       "                                      subpopulations topic  \n",
       "0  [{'name': 'Likely Voters - Republican', 'margi...  None  \n",
       "1  [{'name': 'Likely Voters - Democrat', 'margin_...  None  "
      ]
     },
     "execution_count": 4,
     "metadata": {},
     "output_type": "execute_result"
    }
   ],
   "source": [
    "df_dumber = pd.DataFrame.from_dict(df_dumb.iloc[0].questions)\n",
    "df_dumber.head()"
   ]
  },
  {
   "cell_type": "code",
   "execution_count": 5,
   "metadata": {
    "collapsed": false
   },
   "outputs": [
    {
     "data": {
      "text/html": [
       "<div>\n",
       "<table border=\"1\" class=\"dataframe\">\n",
       "  <thead>\n",
       "    <tr style=\"text-align: right;\">\n",
       "      <th></th>\n",
       "      <th>margin_of_error</th>\n",
       "      <th>name</th>\n",
       "      <th>observations</th>\n",
       "      <th>responses</th>\n",
       "    </tr>\n",
       "  </thead>\n",
       "  <tbody>\n",
       "    <tr>\n",
       "      <th>0</th>\n",
       "      <td>3.0</td>\n",
       "      <td>Likely Voters - Republican</td>\n",
       "      <td>1038</td>\n",
       "      <td>[{'choice': 'Cruz', 'first_name': 'Ted', 'last...</td>\n",
       "    </tr>\n",
       "  </tbody>\n",
       "</table>\n",
       "</div>"
      ],
      "text/plain": [
       "   margin_of_error                        name  observations  \\\n",
       "0              3.0  Likely Voters - Republican          1038   \n",
       "\n",
       "                                           responses  \n",
       "0  [{'choice': 'Cruz', 'first_name': 'Ted', 'last...  "
      ]
     },
     "execution_count": 5,
     "metadata": {},
     "output_type": "execute_result"
    }
   ],
   "source": [
    "df_dumbest = pd.DataFrame.from_dict(df_dumber.iloc[0].subpopulations)\n",
    "df_dumbest.head()"
   ]
  },
  {
   "cell_type": "code",
   "execution_count": 6,
   "metadata": {
    "collapsed": false
   },
   "outputs": [
    {
     "data": {
      "text/html": [
       "<div>\n",
       "<table border=\"1\" class=\"dataframe\">\n",
       "  <thead>\n",
       "    <tr style=\"text-align: right;\">\n",
       "      <th></th>\n",
       "      <th>choice</th>\n",
       "      <th>first_name</th>\n",
       "      <th>incumbent</th>\n",
       "      <th>last_name</th>\n",
       "      <th>party</th>\n",
       "      <th>value</th>\n",
       "    </tr>\n",
       "  </thead>\n",
       "  <tbody>\n",
       "    <tr>\n",
       "      <th>0</th>\n",
       "      <td>Cruz</td>\n",
       "      <td>Ted</td>\n",
       "      <td>False</td>\n",
       "      <td>Cruz</td>\n",
       "      <td>Rep</td>\n",
       "      <td>15</td>\n",
       "    </tr>\n",
       "    <tr>\n",
       "      <th>1</th>\n",
       "      <td>Kasich</td>\n",
       "      <td>John</td>\n",
       "      <td>False</td>\n",
       "      <td>Kasich</td>\n",
       "      <td>Rep</td>\n",
       "      <td>18</td>\n",
       "    </tr>\n",
       "    <tr>\n",
       "      <th>2</th>\n",
       "      <td>Trump</td>\n",
       "      <td>Donald</td>\n",
       "      <td>False</td>\n",
       "      <td>Trump</td>\n",
       "      <td>Rep</td>\n",
       "      <td>55</td>\n",
       "    </tr>\n",
       "    <tr>\n",
       "      <th>3</th>\n",
       "      <td>Undecided</td>\n",
       "      <td>None</td>\n",
       "      <td>None</td>\n",
       "      <td>None</td>\n",
       "      <td>None</td>\n",
       "      <td>12</td>\n",
       "    </tr>\n",
       "  </tbody>\n",
       "</table>\n",
       "</div>"
      ],
      "text/plain": [
       "      choice first_name incumbent last_name party  value\n",
       "0       Cruz        Ted     False      Cruz   Rep     15\n",
       "1     Kasich       John     False    Kasich   Rep     18\n",
       "2      Trump     Donald     False     Trump   Rep     55\n",
       "3  Undecided       None      None      None  None     12"
      ]
     },
     "execution_count": 6,
     "metadata": {},
     "output_type": "execute_result"
    }
   ],
   "source": [
    "df_dumber_than_dumbest = pd.DataFrame.from_dict(df_dumbest.iloc[0].responses)\n",
    "df_dumber_than_dumbest.head()"
   ]
  },
  {
   "cell_type": "code",
   "execution_count": 7,
   "metadata": {
    "collapsed": false
   },
   "outputs": [
    {
     "data": {
      "text/html": [
       "<div>\n",
       "<table border=\"1\" class=\"dataframe\">\n",
       "  <thead>\n",
       "    <tr style=\"text-align: right;\">\n",
       "      <th></th>\n",
       "      <th>choice</th>\n",
       "      <th>first_name</th>\n",
       "      <th>incumbent</th>\n",
       "      <th>last_name</th>\n",
       "      <th>party</th>\n",
       "      <th>poll_affiliation</th>\n",
       "      <th>poll_end_date</th>\n",
       "      <th>poll_id</th>\n",
       "      <th>poll_last_updated</th>\n",
       "      <th>poll_method</th>\n",
       "      <th>poll_partisan</th>\n",
       "      <th>poll_pollster</th>\n",
       "      <th>poll_source</th>\n",
       "      <th>poll_sponsors</th>\n",
       "      <th>poll_start_date</th>\n",
       "      <th>poll_survey_houses</th>\n",
       "      <th>question_chart</th>\n",
       "      <th>question_name</th>\n",
       "      <th>question_state</th>\n",
       "      <th>question_topic</th>\n",
       "      <th>subpopulation_margin_of_error</th>\n",
       "      <th>subpopulation_name</th>\n",
       "      <th>subpopulation_observations</th>\n",
       "      <th>value</th>\n",
       "    </tr>\n",
       "  </thead>\n",
       "  <tbody>\n",
       "    <tr>\n",
       "      <th>0</th>\n",
       "      <td>Cruz</td>\n",
       "      <td>Ted</td>\n",
       "      <td>False</td>\n",
       "      <td>Cruz</td>\n",
       "      <td>Rep</td>\n",
       "      <td>None</td>\n",
       "      <td>2016-04-18</td>\n",
       "      <td>24320</td>\n",
       "      <td>2016-04-20T17:13:30.513Z</td>\n",
       "      <td>Automated Phone</td>\n",
       "      <td>Nonpartisan</td>\n",
       "      <td>Gravis Marketing</td>\n",
       "      <td>http://gravismarketing.com/polling-and-market-...</td>\n",
       "      <td>[]</td>\n",
       "      <td>2016-04-17</td>\n",
       "      <td>[{'name': 'Gravis Marketing', 'party': 'N/A'}]</td>\n",
       "      <td>None</td>\n",
       "      <td>2016 Delaware Republican Presidential Primary</td>\n",
       "      <td>None</td>\n",
       "      <td>None</td>\n",
       "      <td>3.0</td>\n",
       "      <td>Likely Voters - Republican</td>\n",
       "      <td>1038</td>\n",
       "      <td>15</td>\n",
       "    </tr>\n",
       "    <tr>\n",
       "      <th>1</th>\n",
       "      <td>Kasich</td>\n",
       "      <td>John</td>\n",
       "      <td>False</td>\n",
       "      <td>Kasich</td>\n",
       "      <td>Rep</td>\n",
       "      <td>None</td>\n",
       "      <td>2016-04-18</td>\n",
       "      <td>24320</td>\n",
       "      <td>2016-04-20T17:13:30.513Z</td>\n",
       "      <td>Automated Phone</td>\n",
       "      <td>Nonpartisan</td>\n",
       "      <td>Gravis Marketing</td>\n",
       "      <td>http://gravismarketing.com/polling-and-market-...</td>\n",
       "      <td>[]</td>\n",
       "      <td>2016-04-17</td>\n",
       "      <td>[{'name': 'Gravis Marketing', 'party': 'N/A'}]</td>\n",
       "      <td>None</td>\n",
       "      <td>2016 Delaware Republican Presidential Primary</td>\n",
       "      <td>None</td>\n",
       "      <td>None</td>\n",
       "      <td>3.0</td>\n",
       "      <td>Likely Voters - Republican</td>\n",
       "      <td>1038</td>\n",
       "      <td>18</td>\n",
       "    </tr>\n",
       "  </tbody>\n",
       "</table>\n",
       "</div>"
      ],
      "text/plain": [
       "   choice first_name incumbent last_name party poll_affiliation poll_end_date  \\\n",
       "0    Cruz        Ted     False      Cruz   Rep             None    2016-04-18   \n",
       "1  Kasich       John     False    Kasich   Rep             None    2016-04-18   \n",
       "\n",
       "   poll_id         poll_last_updated      poll_method poll_partisan  \\\n",
       "0    24320  2016-04-20T17:13:30.513Z  Automated Phone   Nonpartisan   \n",
       "1    24320  2016-04-20T17:13:30.513Z  Automated Phone   Nonpartisan   \n",
       "\n",
       "      poll_pollster                                        poll_source  \\\n",
       "0  Gravis Marketing  http://gravismarketing.com/polling-and-market-...   \n",
       "1  Gravis Marketing  http://gravismarketing.com/polling-and-market-...   \n",
       "\n",
       "  poll_sponsors poll_start_date  \\\n",
       "0            []      2016-04-17   \n",
       "1            []      2016-04-17   \n",
       "\n",
       "                               poll_survey_houses question_chart  \\\n",
       "0  [{'name': 'Gravis Marketing', 'party': 'N/A'}]           None   \n",
       "1  [{'name': 'Gravis Marketing', 'party': 'N/A'}]           None   \n",
       "\n",
       "                                   question_name question_state  \\\n",
       "0  2016 Delaware Republican Presidential Primary           None   \n",
       "1  2016 Delaware Republican Presidential Primary           None   \n",
       "\n",
       "  question_topic  subpopulation_margin_of_error          subpopulation_name  \\\n",
       "0           None                            3.0  Likely Voters - Republican   \n",
       "1           None                            3.0  Likely Voters - Republican   \n",
       "\n",
       "   subpopulation_observations  value  \n",
       "0                        1038     15  \n",
       "1                        1038     18  "
      ]
     },
     "execution_count": 7,
     "metadata": {},
     "output_type": "execute_result"
    }
   ],
   "source": [
    "rows = []\n",
    "\n",
    "for poll in polls:\n",
    "    poll_copy = {\"poll_\" + str(k): v for k,v in poll.items() if k != 'questions'}\n",
    "    for question in poll['questions']:\n",
    "        question_copy = {\"question_\" + str(k):v for k,v in question.items() if k != 'subpopulations'}\n",
    "        for subpopulation in question['subpopulations']:\n",
    "            subpopulation_copy = {\"subpopulation_\" + str(k):v for k,v in subpopulation.items() if k != 'responses'}\n",
    "            for response in subpopulation['responses']:\n",
    "                response_copy = response.copy()\n",
    "                response_copy.update(subpopulation_copy)\n",
    "                response_copy.update(question_copy)\n",
    "                response_copy.update(poll_copy)\n",
    "                \n",
    "                rows.append(response_copy)\n",
    "                \n",
    "df = pd.DataFrame.from_dict(rows)\n",
    "df.head(2)"
   ]
  }
 ],
 "metadata": {
  "kernelspec": {
   "display_name": "Python 3",
   "language": "python",
   "name": "python3"
  },
  "language_info": {
   "codemirror_mode": {
    "name": "ipython",
    "version": 3
   },
   "file_extension": ".py",
   "mimetype": "text/x-python",
   "name": "python",
   "nbconvert_exporter": "python",
   "pygments_lexer": "ipython3",
   "version": "3.5.1"
  }
 },
 "nbformat": 4,
 "nbformat_minor": 0
}
