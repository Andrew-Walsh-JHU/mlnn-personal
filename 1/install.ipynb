{
 "cells": [
  {
   "cell_type": "markdown",
   "metadata": {},
   "source": [
    "# Install Party"
   ]
  },
  {
   "cell_type": "markdown",
   "metadata": {},
   "source": [
    "### Install Apps\n",
    "\n",
    "Make sure you have all of the following programs installed."
   ]
  },
  {
   "cell_type": "markdown",
   "metadata": {},
   "source": [
    "**NOTE** Uninstall Anaconda 2 if you have it installed.\n",
    "\n",
    "- [Anaconda 3 (Python 3)](https://www.anaconda.com/download/) - This installs Python and many needed libraries on your computer in a ready to go manner\n",
    "- [VS Code](https://code.visualstudio.com/) - This is a useful Text Editor that allows you to edit code. We will use this seldomly.\n",
    "- [Sublime Text 3](https://www.sublimetext.com/3) - This is another useful Text Editor that allows you to edit code. We will use this seldomly.\n",
    "- XCode Command Line Tools (Mac Only). In the `terminal` Copy and paste: `xcode-select --install` ( This installs necessary compilers for Python to work some magic under the hood.)\n",
    "- [Homebrew (Mac Only)](http://brew.sh/) - This provides an easy method of installing (typically complicated) applications.\n",
    "- [iTerm2 (Mac Only)](https://www.iterm2.com/) - This is a nicer Terminal to use instead of what comes default with Mac.\n",
    "- [Git (Windows Only)](https://git-scm.com/downloads) - This installs Git along with a terminal and bash tools. "
   ]
  },
  {
   "cell_type": "markdown",
   "metadata": {},
   "source": [
    "### Install Extra Packages"
   ]
  },
  {
   "cell_type": "markdown",
   "metadata": {
    "collapsed": true
   },
   "source": [
    "Run this in your terminal:    \n",
    "\n",
    "`pip install jupyter scipy version_information arrow seaborn ujson keras tensorflow`"
   ]
  },
  {
   "cell_type": "markdown",
   "metadata": {},
   "source": [
    "### Check Package Versions"
   ]
  },
  {
   "cell_type": "code",
   "execution_count": 4,
   "metadata": {},
   "outputs": [
    {
     "name": "stdout",
     "output_type": "stream",
     "text": [
      "numpy: 1.10.4\n",
      "scipy: 0.17.0\n",
      "matplotlib: 1.5.1\n",
      "statsmodels: 0.6.1\n",
      "pandas: 0.17.1\n",
      "seaborn: 0.7.0\n",
      "sklearn: 0.17\n",
      "nltk: 3.1\n"
     ]
    }
   ],
   "source": [
    "import numpy\n",
    "import scipy\n",
    "import matplotlib\n",
    "import pandas\n",
    "import statsmodels\n",
    "import seaborn\n",
    "import sklearn\n",
    "import nltk\n",
    "\n",
    "print(\"numpy:\", numpy.__version__)\n",
    "print(\"scipy:\", scipy.__version__)\n",
    "print(\"matplotlib:\", matplotlib.__version__)\n",
    "print(\"statsmodels:\", statsmodels.__version__)\n",
    "print(\"pandas:\", pandas.__version__)\n",
    "print(\"seaborn:\", seaborn.__version__)\n",
    "print(\"sklearn:\", sklearn.__version__)\n",
    "print(\"nltk:\", nltk.__version__)"
   ]
  }
 ],
 "metadata": {
  "kernelspec": {
   "display_name": "Python 3",
   "language": "python",
   "name": "python3"
  },
  "language_info": {
   "codemirror_mode": {
    "name": "ipython",
    "version": 3
   },
   "file_extension": ".py",
   "mimetype": "text/x-python",
   "name": "python",
   "nbconvert_exporter": "python",
   "pygments_lexer": "ipython3",
   "version": "3.5.2"
  }
 },
 "nbformat": 4,
 "nbformat_minor": 1
}
